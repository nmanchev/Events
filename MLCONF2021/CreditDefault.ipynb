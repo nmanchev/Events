{
 "cells": [
  {
   "cell_type": "markdown",
   "metadata": {},
   "source": [
    "# Predicting Credit Default"
   ]
  },
  {
   "cell_type": "code",
   "execution_count": null,
   "metadata": {},
   "outputs": [],
   "source": [
    "# sudo pip install imblearn\n",
    "# sudo pip install xgboost"
   ]
  },
  {
   "cell_type": "code",
   "execution_count": null,
   "metadata": {},
   "outputs": [],
   "source": [
    "import pandas as pd\n",
    "\n",
    "# ignore all future warnings\n",
    "from warnings import simplefilter\n",
    "simplefilter(action='ignore', category=FutureWarning)\n",
    "\n",
    "from imblearn.over_sampling import SMOTE\n",
    "\n",
    "from sklearn.preprocessing import StandardScaler #OneHotEncoder,\n",
    "from sklearn.preprocessing import LabelEncoder\n",
    "from sklearn.model_selection import train_test_split\n",
    "#LabelEncoder, label_binarize, StandardScaler, MinMaxScaler\n",
    "\n",
    "from collections import defaultdict\n",
    "\n",
    "from sklearn.metrics import f1_score\n",
    "from sklearn.metrics import accuracy_score\n",
    "\n",
    "import xgboost as xgb\n",
    "import matplotlib.pyplot as plt"
   ]
  },
  {
   "cell_type": "code",
   "execution_count": null,
   "metadata": {},
   "outputs": [],
   "source": [
    "#seed = 1234 # credit, age, duration\n",
    "seed = 1234"
   ]
  },
  {
   "cell_type": "code",
   "execution_count": null,
   "metadata": {},
   "outputs": [],
   "source": [
    "# https://archive.ics.uci.edu/ml/datasets/statlog+(german+credit+data)\n",
    "\n",
    "col_names = names = [\"checking_account\", \"duration\", \"credit_history\", \"purpose\", \"credit_amount\", \n",
    "                     \"savings\", \"employment_since\", \"installment_rate\", \"status\", \"debtors_guarantors\", \n",
    "                     \"residence\", \"property\", \"age\", \"other_installments\", \"housing\", \n",
    "                     \"credits\", \"job\", \"dependents\", \"telephone\", \"foreign_worker\", \"credit\"]\n",
    "\n",
    "data_df = pd.read_csv(\"german.data\",names = col_names, delimiter=' ')\n",
    "data_df.head()"
   ]
  },
  {
   "cell_type": "markdown",
   "metadata": {},
   "source": [
    "## Feature engineering"
   ]
  },
  {
   "cell_type": "code",
   "execution_count": null,
   "metadata": {},
   "outputs": [],
   "source": [
    "# Remap the target attribute: 1 - good credit, 0 - bad credit\n",
    "data_df[\"credit\"].replace([1,2], [1,0], inplace=True)\n",
    "\n",
    "num_attr_names = [\"duration\", \"credit_amount\", \"installment_rate\", \"residence\", \n",
    "                  \"age\", \"credits\", \"dependents\"]\n",
    "\n",
    "cat_attr_names = [\"checking_account\", \"credit_history\", \"purpose\", \"savings\", \"employment_since\", \n",
    "                  \"status\", \"debtors_guarantors\", \"property\", \"other_installments\", \"housing\", \n",
    "                  \"job\", \"telephone\", \"foreign_worker\"]\n",
    "\n",
    "num_attr_norm = pd.DataFrame(StandardScaler().fit_transform(data_df[num_attr_names]),\n",
    "                             columns=num_attr_names)\n",
    "\n",
    "num_attr_norm.head()"
   ]
  },
  {
   "cell_type": "code",
   "execution_count": null,
   "metadata": {},
   "outputs": [],
   "source": [
    "dd = defaultdict(LabelEncoder)\n",
    "\n",
    "cat_attr = data_df[cat_attr_names].apply(lambda col: dd[col.name].fit_transform(col))\n",
    "\n",
    "cat_attr_dummy = pd.get_dummies(data_df[cat_attr_names])\n",
    "\n",
    "cat_attr_dummy.head()"
   ]
  },
  {
   "cell_type": "code",
   "execution_count": null,
   "metadata": {},
   "outputs": [],
   "source": [
    "clean_df = pd.concat([cat_attr_dummy, num_attr_norm, data_df[\"credit\"]], axis = 1)\n",
    "clean_df.head()"
   ]
  },
  {
   "cell_type": "code",
   "execution_count": null,
   "metadata": {},
   "outputs": [],
   "source": [
    "X = clean_df.loc[:, clean_df.columns != \"credit\"]\n",
    "y = clean_df[\"credit\"]"
   ]
  },
  {
   "cell_type": "code",
   "execution_count": null,
   "metadata": {},
   "outputs": [],
   "source": [
    "X_train, X_test, y_train, y_test = train_test_split(X, y, test_size=0.2, random_state=seed)\n",
    "y_train.value_counts()"
   ]
  },
  {
   "cell_type": "code",
   "execution_count": null,
   "metadata": {},
   "outputs": [],
   "source": [
    "oversample = SMOTE(random_state=seed)\n",
    "X_train, y_train = oversample.fit_resample(X_train, y_train)"
   ]
  },
  {
   "cell_type": "code",
   "execution_count": null,
   "metadata": {},
   "outputs": [],
   "source": [
    "y_train.value_counts()"
   ]
  },
  {
   "cell_type": "markdown",
   "metadata": {},
   "source": [
    "## Model training"
   ]
  },
  {
   "cell_type": "code",
   "execution_count": null,
   "metadata": {},
   "outputs": [],
   "source": [
    "# change max_depth 15 -> 5 and look at feature importance\n",
    "xgc = xgb.XGBClassifier(n_estimators=500, max_depth=15, base_score=0.5,\n",
    "                        objective=\"binary:logistic\", random_state=seed, use_label_encoder=False, eval_metric=\"logloss\")\n",
    "xgc.fit(X_train, y_train)"
   ]
  },
  {
   "cell_type": "code",
   "execution_count": null,
   "metadata": {},
   "outputs": [],
   "source": [
    "y_pred = xgc.predict(X_test)"
   ]
  },
  {
   "cell_type": "code",
   "execution_count": null,
   "metadata": {},
   "outputs": [],
   "source": [
    "print(\"Accuracy: %.2f\" % accuracy_score(y_pred, y_test))\n",
    "print(\"F1 score: %.2f\" % f1_score(y_pred, y_test))"
   ]
  },
  {
   "cell_type": "markdown",
   "metadata": {},
   "source": [
    "## Feature importance"
   ]
  },
  {
   "cell_type": "code",
   "execution_count": null,
   "metadata": {},
   "outputs": [],
   "source": [
    "xgb.plot_importance(xgc, importance_type=\"cover\", max_num_features=10, show_values=False);"
   ]
  },
  {
   "cell_type": "code",
   "execution_count": null,
   "metadata": {},
   "outputs": [],
   "source": []
  }
 ],
 "metadata": {
  "kernelspec": {
   "display_name": "Python 3 (ipykernel)",
   "language": "python",
   "name": "python3"
  },
  "language_info": {
   "codemirror_mode": {
    "name": "ipython",
    "version": 3
   },
   "file_extension": ".py",
   "mimetype": "text/x-python",
   "name": "python",
   "nbconvert_exporter": "python",
   "pygments_lexer": "ipython3",
   "version": "3.8.10"
  }
 },
 "nbformat": 4,
 "nbformat_minor": 4
}
