{
 "cells": [
  {
   "cell_type": "code",
   "execution_count": null,
   "metadata": {},
   "outputs": [],
   "source": [
    "import matplotlib.pyplot as plt\n",
    "import numpy as np\n",
    "\n",
    "from sklearn.model_selection import train_test_split"
   ]
  },
  {
   "cell_type": "code",
   "execution_count": null,
   "metadata": {},
   "outputs": [],
   "source": [
    "# beta - transmission rate\n",
    "# N - number of individuals"
   ]
  },
  {
   "cell_type": "code",
   "execution_count": null,
   "metadata": {},
   "outputs": [],
   "source": [
    "def run_model(T=800, S=500, I=10, R=0, beta=0.05, D=0.005):\n",
    "    \n",
    "    N = S + I + R\n",
    "\n",
    "    S = [S]\n",
    "    I = [I]\n",
    "    R = [R]\n",
    "    \n",
    "    for i in range(T-1):\n",
    "    \n",
    "      newly_infected = (beta * S[-1] * I[-1]) / N\n",
    "      newly_resistant = I[-1] * D\n",
    "    \n",
    "      R.append(R[-1] + newly_resistant)\n",
    "      I.append(I[-1] + newly_infected - newly_resistant)\n",
    "      S.append(S[-1] - newly_infected)\n",
    "    \n",
    "    \n",
    "    return np.column_stack([S, I, R])"
   ]
  },
  {
   "cell_type": "code",
   "execution_count": null,
   "metadata": {},
   "outputs": [],
   "source": [
    "model = run_model()"
   ]
  },
  {
   "cell_type": "code",
   "execution_count": null,
   "metadata": {},
   "outputs": [],
   "source": [
    "plt.figure(figsize=(8,6))\n",
    "\n",
    "plt.subplot(211)\n",
    "plt.plot(model[:,0], '-g', label=\"Susceptibles\")\n",
    "plt.plot(model[:,2], '-k', label=\"Resistant\")\n",
    "plt.xlabel(\"Time\")\n",
    "plt.ylabel(\"Susceptibles and Resistant\")\n",
    "plt.legend(loc=0)\n",
    "\n",
    "plt.subplot(212)\n",
    "plt.plot(model[:,1], '-r', label='Infected')\n",
    "plt.xlabel(\"Time\")\n",
    "plt.ylabel(\"Infected\")\n",
    "plt.show()"
   ]
  },
  {
   "cell_type": "code",
   "execution_count": null,
   "metadata": {},
   "outputs": [],
   "source": [
    "observed = 100\n",
    "observed_data = model[0:observed]\n",
    "\n",
    "test_frac = 0.2\n",
    "train_index = int(observed * (1-test_frac))\n",
    "\n",
    "train = model[0:train_index,:]\n",
    "test = model[train_index:observed]"
   ]
  },
  {
   "cell_type": "code",
   "execution_count": null,
   "metadata": {},
   "outputs": [],
   "source": [
    "plt.clf()\n",
    "plt.plot(model[:,1], '-r', label='Infected', alpha=0.3)\n",
    "plt.plot(np.arange(0, train_index), train[:,1], '-g', label='Infected')\n",
    "plt.plot(np.arange(train_index, train_index + test.shape[0]), test[:,1], '-m', label='Infected')\n",
    "plt.xlabel(\"Time\")\n",
    "plt.ylabel(\"Infected\")\n",
    "plt.show()"
   ]
  },
  {
   "cell_type": "code",
   "execution_count": null,
   "metadata": {},
   "outputs": [],
   "source": [
    "def I_loss(beta, D, test):\n",
    "    \n",
    "    model = run_model(T=test.shape[0], S=train[-1,0], I=train[-1,1], R=train[-1,2], beta=beta, D=D)\n",
    "    \n",
    "    mse = np.sqrt((model[:,1] - test[:,1])**2).mean()\n",
    "    \n",
    "    return mse"
   ]
  },
  {
   "cell_type": "code",
   "execution_count": null,
   "metadata": {},
   "outputs": [],
   "source": [
    "loss = I_loss(test=test,beta=0.05, D=0.005)\n",
    "print(\"MSE loss: {:.2f}\".format(loss))"
   ]
  },
  {
   "cell_type": "code",
   "execution_count": null,
   "metadata": {},
   "outputs": [],
   "source": [
    "loss = I_loss(test=test,beta=0.1, D=0.02335)\n",
    "print(\"MSE loss: {:.2f}\".format(loss))"
   ]
  },
  {
   "cell_type": "code",
   "execution_count": null,
   "metadata": {},
   "outputs": [],
   "source": [
    "model2 = run_model(T=720, S=train[-1,0], I=train[-1,1], R=train[-1,2],beta=0.1, D=0.02335)\n",
    "model3 = run_model(T=720, S=train[-1,0], I=train[-1,1], R=train[-1,2],beta=0.1, D=0.02235)\n",
    "model4 = run_model(T=720, S=train[-1,0], I=train[-1,1], R=train[-1,2],beta=0.1, D=0.02348)\n",
    "model5 = run_model(T=720, S=train[-1,0], I=train[-1,1], R=train[-1,2],beta=0.1, D=0.02551)\n",
    "model6 = run_model(T=720, S=train[-1,0], I=train[-1,1], R=train[-1,2],beta=0.05, D=0.007)\n",
    "model7 = run_model(T=720, S=train[-1,0], I=train[-1,1], R=train[-1,2],beta=0.05, D=0.01)\n",
    "\n",
    "plt.clf()\n",
    "plt.plot(model[:,1], '-r', label='Infected', alpha=0.3)\n",
    "plt.plot(observed_data[:,1], '-r', label='Infected')\n",
    "plt.plot(np.arange(train_index, train_index + model2.shape[0]), model2[:,1], '-b', alpha=0.3, label='Infected')\n",
    "plt.plot(np.arange(train_index, train_index + model2.shape[0]), model3[:,1], '-b', alpha=0.3, label='Infected')\n",
    "plt.plot(np.arange(train_index, train_index + model2.shape[0]), model4[:,1], '-b', alpha=0.3, label='Infected')\n",
    "plt.plot(np.arange(train_index, train_index + model2.shape[0]), model5[:,1], '-b', alpha=0.3, label='Infected')\n",
    "plt.plot(np.arange(train_index, train_index + model2.shape[0]), model6[:,1], '-b', alpha=0.3, label='Infected')\n",
    "plt.plot(np.arange(train_index, train_index + model2.shape[0]), model7[:,1], '-b', alpha=0.3, label='Infected')\n",
    "plt.xlabel(\"Time\")\n",
    "plt.ylabel(\"Infected\")\n",
    "plt.show()"
   ]
  },
  {
   "cell_type": "code",
   "execution_count": null,
   "metadata": {},
   "outputs": [],
   "source": []
  }
 ],
 "metadata": {
  "kernelspec": {
   "display_name": "Python 3 (ipykernel)",
   "language": "python",
   "name": "python3"
  },
  "language_info": {
   "codemirror_mode": {
    "name": "ipython",
    "version": 3
   },
   "file_extension": ".py",
   "mimetype": "text/x-python",
   "name": "python",
   "nbconvert_exporter": "python",
   "pygments_lexer": "ipython3",
   "version": "3.8.10"
  }
 },
 "nbformat": 4,
 "nbformat_minor": 4
}
